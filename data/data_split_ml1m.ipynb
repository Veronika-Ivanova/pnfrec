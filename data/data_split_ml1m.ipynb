{
 "cells": [
  {
   "cell_type": "code",
   "execution_count": 3,
   "id": "e3987aa7-2b79-4022-a436-d8a4ac826e52",
   "metadata": {},
   "outputs": [
    {
     "name": "stderr",
     "output_type": "stream",
     "text": [
      "\n",
      "libgomp: Invalid value for environment variable OMP_NUM_THREADS\n"
     ]
    }
   ],
   "source": [
    "import pandas as pd\n",
    "\n",
    "from preprocess import train_val_test_split, prepare_splitted_data"
   ]
  },
  {
   "cell_type": "code",
   "execution_count": 5,
   "id": "d11704f8-f508-473d-a88e-7bb69cb2bbb1",
   "metadata": {},
   "outputs": [],
   "source": [
    "PROJECT_PATH = '~/negative_feedback/'\n",
    "DATA_PATH = f'{PROJECT_PATH}/data/ml-1m/'\n",
    "\n",
    "RELEVANCE_COL = 'rating'\n",
    "RELEVANCE_THRESHOLD = 4"
   ]
  },
  {
   "cell_type": "code",
   "execution_count": 5,
   "id": "b28951cf-11cf-46a5-aec1-9a6d21250dfe",
   "metadata": {},
   "outputs": [],
   "source": [
    "path_to_df = '~/negative_feedback/notebooks/ml-1m/data/ratings.dat'\n",
    "data = pd.read_csv(path_to_df, sep='::', engine='python', names=['user_id','item_id','rating','timestamp'])"
   ]
  },
  {
   "cell_type": "code",
   "execution_count": 6,
   "id": "77a1b5ac-0462-4854-8bf4-75f3d4f44dc4",
   "metadata": {},
   "outputs": [
    {
     "data": {
      "text/plain": [
       "0"
      ]
     },
     "execution_count": 6,
     "metadata": {},
     "output_type": "execute_result"
    }
   ],
   "source": [
    "data.duplicated(['user_id', 'item_id']).sum()"
   ]
  },
  {
   "cell_type": "code",
   "execution_count": 7,
   "id": "302da85b-f26f-4f77-8cde-813982e1460d",
   "metadata": {},
   "outputs": [
    {
     "data": {
      "text/plain": [
       "0.07825148407987048"
      ]
     },
     "execution_count": 7,
     "metadata": {},
     "output_type": "execute_result"
    }
   ],
   "source": [
    "(data.groupby('item_id').count()['user_id'] < 5).mean()"
   ]
  },
  {
   "cell_type": "code",
   "execution_count": 8,
   "id": "3d91cfd9-90e0-45ba-9fda-9d7d8af1db6e",
   "metadata": {},
   "outputs": [
    {
     "data": {
      "text/plain": [
       "0.0"
      ]
     },
     "execution_count": 8,
     "metadata": {},
     "output_type": "execute_result"
    }
   ],
   "source": [
    "(data.groupby('user_id').count()['item_id'] < 5).mean()"
   ]
  },
  {
   "cell_type": "code",
   "execution_count": 10,
   "id": "f4643e93-2070-4f27-8237-e2abfeb24acb",
   "metadata": {},
   "outputs": [
    {
     "data": {
      "text/plain": [
       "96.0"
      ]
     },
     "execution_count": 10,
     "metadata": {},
     "output_type": "execute_result"
    }
   ],
   "source": [
    "data.groupby('user_id').count()['item_id'].median()"
   ]
  },
  {
   "cell_type": "code",
   "execution_count": 9,
   "id": "32efd900-eba1-41d2-9d6d-5e6fe54d49af",
   "metadata": {},
   "outputs": [
    {
     "name": "stdout",
     "output_type": "stream",
     "text": [
      "Filtering items..\n",
      "Number of items before 3706\n",
      "Number of items after 3416\n",
      "Interactions length before: 1000209\n",
      "Interactions length after: 999611\n",
      "Filtering users..\n",
      "Number of users before 6040\n",
      "Number of users after 6040\n",
      "Interactions length before: 999611\n",
      "Interactions length after: 999611\n"
     ]
    }
   ],
   "source": [
    "train, val, test = train_val_test_split(data, RELEVANCE_THRESHOLD, RELEVANCE_COL, test_quantile=0.9)"
   ]
  },
  {
   "cell_type": "code",
   "execution_count": 10,
   "id": "4365b07f-efeb-4f96-9fb3-194a5bd30405",
   "metadata": {},
   "outputs": [
    {
     "data": {
      "text/plain": [
       "589"
      ]
     },
     "execution_count": 10,
     "metadata": {},
     "output_type": "execute_result"
    }
   ],
   "source": [
    "val.user_id.nunique()"
   ]
  },
  {
   "cell_type": "code",
   "execution_count": 11,
   "id": "3ee8be32-f6a1-4445-9f80-34e471970310",
   "metadata": {},
   "outputs": [
    {
     "data": {
      "text/plain": [
       "6011"
      ]
     },
     "execution_count": 11,
     "metadata": {},
     "output_type": "execute_result"
    }
   ],
   "source": [
    "train.user_id.nunique()"
   ]
  },
  {
   "cell_type": "code",
   "execution_count": 12,
   "id": "c1e2293e-9aad-4970-9ce1-b15cc4fa9a52",
   "metadata": {},
   "outputs": [],
   "source": [
    "def filter_last_positive(df):\n",
    "\n",
    "    df = df.sort_values(['user_id', 'timestamp'])\n",
    "    last_item = df.groupby('user_id').tail(1)\n",
    "    last_item = last_item[last_item[RELEVANCE_COL] >= RELEVANCE_THRESHOLD]\n",
    "    df = df[df['user_id'].isin(last_item['user_id'])]\n",
    "\n",
    "    return df"
   ]
  },
  {
   "cell_type": "code",
   "execution_count": 13,
   "id": "39f537de-bcdf-4fad-95f0-fc40b025c1bb",
   "metadata": {},
   "outputs": [],
   "source": [
    "val = filter_last_positive(val)"
   ]
  },
  {
   "cell_type": "code",
   "execution_count": 14,
   "id": "86be953a-0f9c-436b-8f16-5907313bbd09",
   "metadata": {},
   "outputs": [
    {
     "data": {
      "text/plain": [
       "343"
      ]
     },
     "execution_count": 14,
     "metadata": {},
     "output_type": "execute_result"
    }
   ],
   "source": [
    "val.user_id.nunique()"
   ]
  },
  {
   "cell_type": "code",
   "execution_count": 15,
   "id": "4da6cecb-b159-428a-a9a1-352715d808e3",
   "metadata": {},
   "outputs": [],
   "source": [
    "train.to_parquet(f'{DATA_PATH}/train.parquet', index=False)\n",
    "test.to_parquet(f'{DATA_PATH}/test.parquet', index=False)\n",
    "val.to_parquet(f'{DATA_PATH}/validation.parquet', index=False)"
   ]
  },
  {
   "cell_type": "code",
   "execution_count": null,
   "id": "f2b6907d-d307-4122-85e2-b1d23ae535be",
   "metadata": {},
   "outputs": [],
   "source": []
  }
 ],
 "metadata": {
  "kernelspec": {
   "display_name": "veronika_env39",
   "language": "python",
   "name": "veronika_env39"
  },
  "language_info": {
   "codemirror_mode": {
    "name": "ipython",
    "version": 3
   },
   "file_extension": ".py",
   "mimetype": "text/x-python",
   "name": "python",
   "nbconvert_exporter": "python",
   "pygments_lexer": "ipython3",
   "version": "3.9.19"
  }
 },
 "nbformat": 4,
 "nbformat_minor": 5
}
