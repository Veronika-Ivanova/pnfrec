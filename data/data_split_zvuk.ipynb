{
 "cells": [
  {
   "cell_type": "code",
   "execution_count": 61,
   "id": "e3987aa7-2b79-4022-a436-d8a4ac826e52",
   "metadata": {},
   "outputs": [],
   "source": [
    "import pandas as pd\n",
    "import numpy as np\n",
    "\n",
    "from preprocess import train_val_test_split, prepare_splitted_data"
   ]
  },
  {
   "cell_type": "code",
   "execution_count": 48,
   "id": "d11704f8-f508-473d-a88e-7bb69cb2bbb1",
   "metadata": {},
   "outputs": [],
   "source": [
    "PROJECT_PATH = '~/negative_feedback/'\n",
    "DATA_PATH = f'{PROJECT_PATH}/data/zvuk/'\n",
    "\n",
    "RELEVANCE_COL = 'play_duration'\n",
    "RELEVANCE_THRESHOLD = 30"
   ]
  },
  {
   "cell_type": "code",
   "execution_count": 14,
   "id": "2c7544a1-a8c2-42b0-b460-d1609fbdd780",
   "metadata": {},
   "outputs": [],
   "source": [
    "path_to_df = '~/negative_feedback/data/zvuk-interactions.parquet'\n",
    "data = pd.read_parquet(path_to_df)"
   ]
  },
  {
   "cell_type": "code",
   "execution_count": 15,
   "id": "370f9ce2-77da-4de0-bca1-b63902cb931b",
   "metadata": {},
   "outputs": [],
   "source": [
    "data = data.rename(columns=\n",
    "    {'datetime': 'timestamp'})"
   ]
  },
  {
   "cell_type": "code",
   "execution_count": 16,
   "id": "3d38acd2-3749-46b0-9181-222211dae7ff",
   "metadata": {},
   "outputs": [],
   "source": [
    "def prepare_clickstream(\n",
    "    clickstream_df,\n",
    "    num_users=20000,\n",
    "    min_items_per_user=5,\n",
    "    min_items=5,\n",
    "    min_duration=0,\n",
    "    aggregate_repeated_items=True,\n",
    "    aggregation_type='sum',\n",
    "):\n",
    "    clickstream_df = clickstream_df[clickstream_df['play_duration'] >= min_duration]\n",
    "    print(f'Filtered `play_duration` < {min_duration}')\n",
    "\n",
    "    if aggregate_repeated_items: \n",
    "        if aggregation_type == 'sum':\n",
    "            clickstream_df = clickstream_df.merge(\n",
    "                clickstream_df.groupby(\n",
    "                    ['user_id', 'track_id', 'session_id']\n",
    "                )['play_duration'].sum(), on=['user_id', 'track_id', 'session_id'],\n",
    "                how='left'\n",
    "            ).drop_duplicates(subset=['user_id', 'track_id', 'session_id'])\n",
    "\n",
    "        elif aggregation_type == 'max':\n",
    "            clickstream_df = clickstream_df.merge(\n",
    "                clickstream_df.groupby(\n",
    "                    ['user_id', 'track_id', 'session_id']\n",
    "                )['play_duration'].max(), on=['user_id', 'track_id', 'session_id'],\n",
    "                how='left'\n",
    "            ).drop_duplicates(subset=['user_id', 'track_id', 'session_id'])\n",
    "\n",
    "        clickstream_df = clickstream_df.rename({'play_duration_y': 'play_duration'}, axis=1)\n",
    "        clickstream_df = clickstream_df.drop(['play_duration_x'], axis=1)\n",
    "        print('Aggregated')\n",
    "\n",
    "    uc = clickstream_df['user_id'].value_counts()\n",
    "    appropriate_users = uc[uc > min_items_per_user].index\n",
    "    clickstream_df = clickstream_df[clickstream_df.loc[:, 'user_id'].isin(appropriate_users)]\n",
    "    print('Filtered users by interactions num')\n",
    "    \n",
    "    selected_users = np.random.choice(clickstream_df['user_id'].unique(), size=num_users, replace=False)\n",
    "    clickstream_df = clickstream_df[clickstream_df.loc[:, 'user_id'].isin(selected_users)]\n",
    "    print(f'Picked {num_users} users')\n",
    "    \n",
    "    ic = clickstream_df['track_id'].value_counts()\n",
    "    clickstream_df = clickstream_df[clickstream_df.loc[:, 'track_id'].isin(ic[ic > min_items].index)]\n",
    "    print('Filtered items by interactions num')\n",
    "    \n",
    "    clickstream_df.sort_values(by=['user_id', 'timestamp'], inplace=True)\n",
    "    clickstream_df.insert(0, 'user_idx', clickstream_df['user_id'].astype('category').cat.codes)\n",
    "    clickstream_df.insert(2, 'item_idx', clickstream_df['track_id'].astype('category').cat.codes)\n",
    "    clickstream_df.insert(4, 'session_idx', clickstream_df['session_id'].astype('category').cat.codes)\n",
    "\n",
    "    return clickstream_df.drop(['user_id', 'track_id', 'session_id'], axis=1)"
   ]
  },
  {
   "cell_type": "code",
   "execution_count": 19,
   "id": "4d916508-bf7e-40db-bed1-5f4bc432f420",
   "metadata": {},
   "outputs": [
    {
     "name": "stdout",
     "output_type": "stream",
     "text": [
      "Filtered `play_duration` < 0\n",
      "Aggregated\n",
      "Filtered users by interactions num\n",
      "Picked 20000 users\n",
      "Filtered items by interactions num\n"
     ]
    }
   ],
   "source": [
    "prepared_data = prepare_clickstream(data)"
   ]
  },
  {
   "cell_type": "code",
   "execution_count": 21,
   "id": "d70b3019-7906-449a-8620-fd5c8554e6ad",
   "metadata": {},
   "outputs": [],
   "source": [
    "prepared_data = prepared_data[['user_idx', 'item_idx', 'timestamp', 'play_duration']].rename(columns=\n",
    "    {'user_idx': 'user_id', 'item_idx': 'item_id'})"
   ]
  },
  {
   "cell_type": "code",
   "execution_count": 46,
   "id": "fd3ad03e-98dd-4f78-bbf6-ed2a9d966417",
   "metadata": {},
   "outputs": [
    {
     "data": {
      "text/plain": [
       "0.25330848779665244"
      ]
     },
     "execution_count": 46,
     "metadata": {},
     "output_type": "execute_result"
    }
   ],
   "source": [
    "np.mean(prepared_data.play_duration < 30)"
   ]
  },
  {
   "cell_type": "code",
   "execution_count": 43,
   "id": "a51847bd-0468-43ce-9273-c57a827b33bb",
   "metadata": {},
   "outputs": [
    {
     "data": {
      "text/plain": [
       "0.0"
      ]
     },
     "execution_count": 43,
     "metadata": {},
     "output_type": "execute_result"
    }
   ],
   "source": [
    "(prepared_data.groupby('item_id').count()['user_id'] < 5).mean()"
   ]
  },
  {
   "cell_type": "code",
   "execution_count": 44,
   "id": "09675351-6594-4a66-8741-e0afb3642c33",
   "metadata": {},
   "outputs": [
    {
     "data": {
      "text/plain": [
       "0.007255078554988492"
      ]
     },
     "execution_count": 44,
     "metadata": {},
     "output_type": "execute_result"
    }
   ],
   "source": [
    "(prepared_data.groupby('user_id').count()['item_id'] < 5).mean()"
   ]
  },
  {
   "cell_type": "code",
   "execution_count": 51,
   "id": "32efd900-eba1-41d2-9d6d-5e6fe54d49af",
   "metadata": {},
   "outputs": [
    {
     "name": "stdout",
     "output_type": "stream",
     "text": [
      "Filtering items..\n",
      "Number of items before 147781\n",
      "Number of items after 107397\n",
      "Interactions length before: 8776895\n",
      "Interactions length after: 8255964\n",
      "Filtering users..\n",
      "Number of users before 19978\n",
      "Number of users after 19693\n",
      "Interactions length before: 8255964\n",
      "Interactions length after: 8254635\n"
     ]
    }
   ],
   "source": [
    "train, val, test = train_val_test_split(prepared_data, RELEVANCE_THRESHOLD, RELEVANCE_COL, test_quantile=0.9)"
   ]
  },
  {
   "cell_type": "code",
   "execution_count": 52,
   "id": "6e72b06a-f3b2-4226-8f73-2f2d8eb38e9a",
   "metadata": {},
   "outputs": [
    {
     "data": {
      "text/plain": [
       "4347"
      ]
     },
     "execution_count": 52,
     "metadata": {},
     "output_type": "execute_result"
    }
   ],
   "source": [
    "val.user_id.nunique()"
   ]
  },
  {
   "cell_type": "code",
   "execution_count": 53,
   "id": "9db234e4-fde2-4e57-8f4c-3ae61df1f5cf",
   "metadata": {},
   "outputs": [
    {
     "data": {
      "text/plain": [
       "19047"
      ]
     },
     "execution_count": 53,
     "metadata": {},
     "output_type": "execute_result"
    }
   ],
   "source": [
    "train.user_id.nunique()"
   ]
  },
  {
   "cell_type": "code",
   "execution_count": 54,
   "id": "62ec09b1-1cf1-4755-863a-d5bf0657c561",
   "metadata": {},
   "outputs": [
    {
     "data": {
      "text/plain": [
       "count    19047.000000\n",
       "mean       390.044154\n",
       "std        756.232773\n",
       "min          1.000000\n",
       "25%         29.000000\n",
       "50%        116.000000\n",
       "75%        413.000000\n",
       "max      15122.000000\n",
       "Name: item_id, dtype: float64"
      ]
     },
     "execution_count": 54,
     "metadata": {},
     "output_type": "execute_result"
    }
   ],
   "source": [
    "train.groupby('user_id')['item_id'].agg('count').describe()"
   ]
  },
  {
   "cell_type": "code",
   "execution_count": 55,
   "id": "25a77e58-830c-4d25-94ba-3fbb176556cf",
   "metadata": {},
   "outputs": [],
   "source": [
    "def filter_last_positive(df):\n",
    "\n",
    "    df = df.sort_values(['user_id', 'timestamp'])\n",
    "    last_item = df.groupby('user_id').tail(1)\n",
    "    last_item = last_item[last_item[RELEVANCE_COL] >= RELEVANCE_THRESHOLD]\n",
    "    df = df[df['user_id'].isin(last_item['user_id'])]\n",
    "\n",
    "    return df"
   ]
  },
  {
   "cell_type": "code",
   "execution_count": 56,
   "id": "b589e538-e5bf-428b-ac9f-4bc804921b07",
   "metadata": {},
   "outputs": [],
   "source": [
    "val = filter_last_positive(val)"
   ]
  },
  {
   "cell_type": "code",
   "execution_count": 57,
   "id": "a5ccd7b1-97c3-4cdd-a19e-d2ba181302a3",
   "metadata": {},
   "outputs": [
    {
     "data": {
      "text/plain": [
       "3091"
      ]
     },
     "execution_count": 57,
     "metadata": {},
     "output_type": "execute_result"
    }
   ],
   "source": [
    "val.user_id.nunique()"
   ]
  },
  {
   "cell_type": "code",
   "execution_count": 59,
   "id": "1462fc51-97b1-44fc-88fe-f8b13eeee859",
   "metadata": {},
   "outputs": [],
   "source": [
    "train.to_parquet(f'{DATA_PATH}/train.parquet', index=False)\n",
    "test.to_parquet(f'{DATA_PATH}/test.parquet', index=False)\n",
    "val.to_parquet(f'{DATA_PATH}/validation.parquet', index=False)"
   ]
  },
  {
   "cell_type": "code",
   "execution_count": null,
   "id": "97bdedfc-ca46-44af-8aea-a39d3f977748",
   "metadata": {},
   "outputs": [],
   "source": []
  }
 ],
 "metadata": {
  "kernelspec": {
   "display_name": "veronika_env39",
   "language": "python",
   "name": "veronika_env39"
  },
  "language_info": {
   "codemirror_mode": {
    "name": "ipython",
    "version": 3
   },
   "file_extension": ".py",
   "mimetype": "text/x-python",
   "name": "python",
   "nbconvert_exporter": "python",
   "pygments_lexer": "ipython3",
   "version": "3.9.19"
  }
 },
 "nbformat": 4,
 "nbformat_minor": 5
}
