{
 "cells": [
  {
   "cell_type": "code",
   "execution_count": 3,
   "id": "e3987aa7-2b79-4022-a436-d8a4ac826e52",
   "metadata": {},
   "outputs": [
    {
     "name": "stderr",
     "output_type": "stream",
     "text": [
      "\n",
      "libgomp: Invalid value for environment variable OMP_NUM_THREADS\n"
     ]
    }
   ],
   "source": [
    "import pandas as pd\n",
    "\n",
    "from preprocess import train_val_test_split, prepare_splitted_data"
   ]
  },
  {
   "cell_type": "code",
   "execution_count": 4,
   "id": "d11704f8-f508-473d-a88e-7bb69cb2bbb1",
   "metadata": {},
   "outputs": [],
   "source": [
    "PROJECT_PATH = '~/negative_feedback/'\n",
    "DATA_PATH = f'{PROJECT_PATH}/data/games/'\n",
    "\n",
    "RELEVANCE_COL = 'rating'\n",
    "RELEVANCE_THRESHOLD = 5"
   ]
  },
  {
   "cell_type": "code",
   "execution_count": 3,
   "id": "2c7544a1-a8c2-42b0-b460-d1609fbdd780",
   "metadata": {},
   "outputs": [],
   "source": [
    "path_to_df = '~/negative_feedback/data/reviews_Toys_and_Games_5.json'\n",
    "data = pd.read_json(path_to_df, lines = True)"
   ]
  },
  {
   "cell_type": "code",
   "execution_count": 5,
   "id": "b152e11d-deec-4a25-b6af-3a149d1239aa",
   "metadata": {},
   "outputs": [
    {
     "data": {
      "text/plain": [
       "5.0"
      ]
     },
     "execution_count": 5,
     "metadata": {},
     "output_type": "execute_result"
    }
   ],
   "source": [
    "data.overall.median()"
   ]
  },
  {
   "cell_type": "code",
   "execution_count": 23,
   "id": "3fda94e4-0b0d-45bc-aac9-5e92d125fa1b",
   "metadata": {},
   "outputs": [
    {
     "data": {
      "text/plain": [
       "0.1632606788904336"
      ]
     },
     "execution_count": 23,
     "metadata": {},
     "output_type": "execute_result"
    }
   ],
   "source": [
    "sum(data.rating < 4) / len(data)"
   ]
  },
  {
   "cell_type": "code",
   "execution_count": 7,
   "id": "370f9ce2-77da-4de0-bca1-b63902cb931b",
   "metadata": {},
   "outputs": [],
   "source": [
    "data = data[['reviewerID', 'asin', 'overall', 'unixReviewTime']].rename(columns=\n",
    "    {'reviewerID': 'user_id', 'asin': 'item_id', 'overall': 'rating', 'unixReviewTime': 'timestamp'})"
   ]
  },
  {
   "cell_type": "code",
   "execution_count": 9,
   "id": "9bc66e0a-47cf-4f38-a572-a550629fd058",
   "metadata": {},
   "outputs": [],
   "source": [
    "data.user_id = data.user_id.astype('category').cat.codes\n",
    "data.item_id = data.item_id.astype('category').cat.codes"
   ]
  },
  {
   "cell_type": "code",
   "execution_count": 11,
   "id": "77a1b5ac-0462-4854-8bf4-75f3d4f44dc4",
   "metadata": {},
   "outputs": [
    {
     "data": {
      "text/plain": [
       "0"
      ]
     },
     "execution_count": 11,
     "metadata": {},
     "output_type": "execute_result"
    }
   ],
   "source": [
    "data.duplicated(['user_id', 'item_id']).sum()"
   ]
  },
  {
   "cell_type": "code",
   "execution_count": 12,
   "id": "a51847bd-0468-43ce-9273-c57a827b33bb",
   "metadata": {},
   "outputs": [
    {
     "data": {
      "text/plain": [
       "0.0"
      ]
     },
     "execution_count": 12,
     "metadata": {},
     "output_type": "execute_result"
    }
   ],
   "source": [
    "(data.groupby('item_id').count()['user_id'] < 5).mean()"
   ]
  },
  {
   "cell_type": "code",
   "execution_count": 13,
   "id": "09675351-6594-4a66-8741-e0afb3642c33",
   "metadata": {},
   "outputs": [
    {
     "data": {
      "text/plain": [
       "0.0"
      ]
     },
     "execution_count": 13,
     "metadata": {},
     "output_type": "execute_result"
    }
   ],
   "source": [
    "(data.groupby('user_id').count()['item_id'] < 5).mean()"
   ]
  },
  {
   "cell_type": "code",
   "execution_count": 14,
   "id": "32efd900-eba1-41d2-9d6d-5e6fe54d49af",
   "metadata": {},
   "outputs": [
    {
     "name": "stdout",
     "output_type": "stream",
     "text": [
      "Filtering items..\n",
      "Number of items before 11924\n",
      "Number of items after 11924\n",
      "Interactions length before: 167597\n",
      "Interactions length after: 167597\n",
      "Filtering users..\n",
      "Number of users before 19412\n",
      "Number of users after 19412\n",
      "Interactions length before: 167597\n",
      "Interactions length after: 167597\n"
     ]
    }
   ],
   "source": [
    "train, val, test = train_val_test_split(data, RELEVANCE_THRESHOLD, RELEVANCE_COL, test_quantile=0.9)"
   ]
  },
  {
   "cell_type": "code",
   "execution_count": 15,
   "id": "6e72b06a-f3b2-4226-8f73-2f2d8eb38e9a",
   "metadata": {},
   "outputs": [
    {
     "data": {
      "text/plain": [
       "2316"
      ]
     },
     "execution_count": 15,
     "metadata": {},
     "output_type": "execute_result"
    }
   ],
   "source": [
    "val.user_id.nunique()"
   ]
  },
  {
   "cell_type": "code",
   "execution_count": 16,
   "id": "9db234e4-fde2-4e57-8f4c-3ae61df1f5cf",
   "metadata": {},
   "outputs": [
    {
     "data": {
      "text/plain": [
       "18776"
      ]
     },
     "execution_count": 16,
     "metadata": {},
     "output_type": "execute_result"
    }
   ],
   "source": [
    "train.user_id.nunique()"
   ]
  },
  {
   "cell_type": "code",
   "execution_count": 17,
   "id": "62ec09b1-1cf1-4755-863a-d5bf0657c561",
   "metadata": {},
   "outputs": [
    {
     "data": {
      "text/plain": [
       "count    18776.000000\n",
       "mean         8.032861\n",
       "std          8.282813\n",
       "min          1.000000\n",
       "25%          5.000000\n",
       "50%          6.000000\n",
       "75%          8.000000\n",
       "max        550.000000\n",
       "Name: item_id, dtype: float64"
      ]
     },
     "execution_count": 17,
     "metadata": {},
     "output_type": "execute_result"
    }
   ],
   "source": [
    "train.groupby('user_id')['item_id'].agg('count').describe()"
   ]
  },
  {
   "cell_type": "code",
   "execution_count": 18,
   "id": "25a77e58-830c-4d25-94ba-3fbb176556cf",
   "metadata": {},
   "outputs": [],
   "source": [
    "def filter_last_positive(df):\n",
    "\n",
    "    df = df.sort_values(['user_id', 'timestamp'])\n",
    "    last_item = df.groupby('user_id').tail(1)\n",
    "    last_item = last_item[last_item[RELEVANCE_COL] >= RELEVANCE_THRESHOLD]\n",
    "    df = df[df['user_id'].isin(last_item['user_id'])]\n",
    "\n",
    "    return df"
   ]
  },
  {
   "cell_type": "code",
   "execution_count": 19,
   "id": "b589e538-e5bf-428b-ac9f-4bc804921b07",
   "metadata": {},
   "outputs": [],
   "source": [
    "val = filter_last_positive(val)"
   ]
  },
  {
   "cell_type": "code",
   "execution_count": 20,
   "id": "a5ccd7b1-97c3-4cdd-a19e-d2ba181302a3",
   "metadata": {},
   "outputs": [
    {
     "data": {
      "text/plain": [
       "1483"
      ]
     },
     "execution_count": 20,
     "metadata": {},
     "output_type": "execute_result"
    }
   ],
   "source": [
    "val.user_id.nunique()"
   ]
  },
  {
   "cell_type": "code",
   "execution_count": 21,
   "id": "1462fc51-97b1-44fc-88fe-f8b13eeee859",
   "metadata": {},
   "outputs": [],
   "source": [
    "train.to_parquet(f'{DATA_PATH}/train.parquet', index=False)\n",
    "test.to_parquet(f'{DATA_PATH}/test.parquet', index=False)\n",
    "val.to_parquet(f'{DATA_PATH}/validation.parquet', index=False)"
   ]
  },
  {
   "cell_type": "code",
   "execution_count": null,
   "id": "7f78060c-8d54-4dfe-bd94-95c451899139",
   "metadata": {},
   "outputs": [],
   "source": []
  }
 ],
 "metadata": {
  "kernelspec": {
   "display_name": "veronika_env39",
   "language": "python",
   "name": "veronika_env39"
  },
  "language_info": {
   "codemirror_mode": {
    "name": "ipython",
    "version": 3
   },
   "file_extension": ".py",
   "mimetype": "text/x-python",
   "name": "python",
   "nbconvert_exporter": "python",
   "pygments_lexer": "ipython3",
   "version": "3.9.19"
  }
 },
 "nbformat": 4,
 "nbformat_minor": 5
}
